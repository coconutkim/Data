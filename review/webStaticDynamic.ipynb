{
 "cells": [
  {
   "cell_type": "markdown",
   "metadata": {},
   "source": [
    "# 정적 웹페이지와 동적 웹페이지"
   ]
  },
  {
   "cell_type": "markdown",
   "metadata": {},
   "source": [
    "### 정적 웹페이지"
   ]
  },
  {
   "cell_type": "markdown",
   "metadata": {},
   "source": [
    "static web page\n",
    "\n",
    "-웹 서버에 이미 저장된 파일을 클라이언트에게 전송하는 웹 페이지\n",
    "\n",
    "-사용자는 서버에 저장된 데이터가 변경되지 않는 한 고정된 웹 페이지를 계속 보게 된다\n",
    "\n",
    "-모든 사용자는 같은 결과의 페이지를 서버에 요청하고 응답 받게 된다\n",
    "\n",
    "\n",
    "pro\n",
    "\n",
    "-요청에 대한 파일만 전송해서 속도가 빠르다\n",
    "\n",
    "-단순한 문서이기에 호스팅 서버에 연결하는 비용이 적다\n",
    "\n",
    "**호스팅 hosting: 서버 컴퓨터의 전체 또는 일정 공간을 이용할 수 있도록 임대해 주는 서비스\n",
    "\n",
    "\n",
    "cons\n",
    "\n",
    "-저장된 정보만 보여주기 때문에 서비스가 한정적이다\n",
    "\n",
    "-추가, 삭제, 수정 등의 작업을 위해서는 모든 코드를 직접 건드려야 해서 관리가 힘들다\n"
   ]
  },
  {
   "cell_type": "markdown",
   "metadata": {},
   "source": [
    "### 동적 웹페이지"
   ]
  },
  {
   "cell_type": "markdown",
   "metadata": {},
   "source": [
    "dynamic web page\n",
    "\n",
    "-서버에 저장된 파일이 그대로 브라워저에 나오는 것이 아니라 동적으로 만들어지는 웹 페이지\n",
    "\n",
    "-요청에 관하여 사용자는 조건에 따라 다른 결과를 받는다\n",
    "\n",
    "-상황, 시간, 요청 등에 따라 다른 결과를 보게 된다\n",
    "\n",
    "\n",
    "종류\n",
    "\n",
    "-csr: clind side renderin\n",
    "\n",
    "-ssr: server side rendering\n",
    "\n",
    "-mpa: multi page application\n",
    "\n",
    "-spa: single page application\n"
   ]
  }
 ],
 "metadata": {
  "language_info": {
   "name": "python"
  }
 },
 "nbformat": 4,
 "nbformat_minor": 2
}
