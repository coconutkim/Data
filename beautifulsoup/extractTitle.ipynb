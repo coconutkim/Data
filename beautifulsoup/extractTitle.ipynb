{
 "cells": [
  {
   "cell_type": "markdown",
   "metadata": {},
   "source": [
    "## 한글로 된 제목만 추출하기"
   ]
  },
  {
   "cell_type": "code",
   "execution_count": 3,
   "metadata": {},
   "outputs": [],
   "source": [
    "import re #regex 정규 표현식\n",
    "from bs4 import BeautifulSoup #텍스트 형태의 데이터에서 원하는 html 태그 추출"
   ]
  },
  {
   "cell_type": "code",
   "execution_count": 4,
   "metadata": {},
   "outputs": [],
   "source": [
    "html = \"\"\"\n",
    "<li><a href=\"https://news.v.daum.net/v/20181126211257847\" class=\"link_txt\">&#39;\n",
    "판사 블랙리스트&#39; 없다던 법원 곤혹...&#39;고의 부실조사&#39; 의혹</a></li>\n",
    "<li><a href=\"https://news.v.daum.net/v/20181126193835503\" class=\"link_txt\">中군\n",
    "용기, 3차례 KADIZ 진입후 이탈...정부, 엄중 항의</a></li>\n",
    "<li><a href=\"https://news.v.daum.net/v/20181126201817082\" class=\"link_txt\">&#39;수수료 인하&#39; 자영업자 부담 줄고 소비자 & #39;혜택&#39;도 줄어드나</a></li>\n",
    "<li><a href=\"https://news.v.daum.net/v/20181126201503029\" class=\"link_txt\">KT 화\n",
    "재 후 첫 평일...복구됐다지만 먹통 피해 여전</a></li>\n",
    "<li><a href=\"https://news.v.daum.net/v/20181126203723330\" class=\"link_txt\">내일\n",
    "도 초미세먼지 &#39;나쁨&#39;...낮동안 온화</a></li>\n",
    "\"\"\""
   ]
  },
  {
   "cell_type": "code",
   "execution_count": 5,
   "metadata": {},
   "outputs": [],
   "source": [
    "#parse: 주어진 데이터를 해석하고 분석하여 원하는 형식 또는 구조로 변환하는 작업\n",
    "#뷰티풀수프로 html 파싱\n",
    "soup = BeautifulSoup(html, 'html.parser')"
   ]
  },
  {
   "cell_type": "code",
   "execution_count": 6,
   "metadata": {},
   "outputs": [],
   "source": [
    "#모든 <a> 태그에서 텍스트를 추출하겠다\n",
    "titles = [a.get_text() for a in soup.find_all('a', class_='link_txt')]"
   ]
  },
  {
   "cell_type": "code",
   "execution_count": 7,
   "metadata": {},
   "outputs": [],
   "source": [
    "#한글만 포함된 제목을 추출하는 정규 표현식\n",
    "#re.sub 파이썬의 re 모듈에서 제공하는 함수, 문자열에서 특정 패턴을 찾아 다른 문자열로 치환하는데 사용한다\n",
    "korean_titles = [re.sub(r'[^가-힣\\s]', '', title).strip() for title in titles]"
   ]
  },
  {
   "cell_type": "code",
   "execution_count": 8,
   "metadata": {},
   "outputs": [],
   "source": [
    "#한글이 포함된 제목만 출력한다\n",
    "korean_titles = [title for title in korean_titles if title]"
   ]
  },
  {
   "cell_type": "code",
   "execution_count": 9,
   "metadata": {},
   "outputs": [
    {
     "name": "stdout",
     "output_type": "stream",
     "text": [
      "판사 블랙리스트 없다던 법원 곤혹고의 부실조사 의혹\n",
      "군\n",
      "용기 차례  진입후 이탈정부 엄중 항의\n",
      "수수료 인하 자영업자 부담 줄고 소비자  혜택도 줄어드나\n",
      "화\n",
      "재 후 첫 평일복구됐다지만 먹통 피해 여전\n",
      "내일\n",
      "도 초미세먼지 나쁨낮동안 온화\n"
     ]
    }
   ],
   "source": [
    "for title in korean_titles:\n",
    "    print(title)\n",
    "\n",
    "#뷰티풀수프를 사용해 html에서 텍스트를 추출한다\n",
    "#정규 표현식을 사용해 한글로 이루어진 부분만 남긴다\n",
    "#한글 제목만 리스트에 저장해 출력한다"
   ]
  }
 ],
 "metadata": {
  "kernelspec": {
   "display_name": "myvirtual1",
   "language": "python",
   "name": "python3"
  },
  "language_info": {
   "codemirror_mode": {
    "name": "ipython",
    "version": 3
   },
   "file_extension": ".py",
   "mimetype": "text/x-python",
   "name": "python",
   "nbconvert_exporter": "python",
   "pygments_lexer": "ipython3",
   "version": "3.9.19"
  }
 },
 "nbformat": 4,
 "nbformat_minor": 2
}
